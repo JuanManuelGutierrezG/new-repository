{
  "nbformat": 4,
  "nbformat_minor": 0,
  "metadata": {
    "colab": {
      "name": "Untitled66.ipynb",
      "provenance": [],
      "authorship_tag": "ABX9TyN36b5kYIpfupQLHf7zB03D",
      "include_colab_link": true
    },
    "kernelspec": {
      "name": "python3",
      "display_name": "Python 3"
    }
  },
  "cells": [
    {
      "cell_type": "markdown",
      "metadata": {
        "id": "view-in-github",
        "colab_type": "text"
      },
      "source": [
        "<a href=\"https://colab.research.google.com/github/JuanManuelGutierrezG/new-repository/blob/main/height.ipynb\" target=\"_parent\"><img src=\"https://colab.research.google.com/assets/colab-badge.svg\" alt=\"Open In Colab\"/></a>"
      ]
    },
    {
      "cell_type": "code",
      "metadata": {
        "id": "Mz-cCmCaLbCQ"
      },
      "source": [
        "import numpy as np \r\n",
        "import matplotlib.pyplot as plt\r\n",
        "from scipy.integrate import odeint "
      ],
      "execution_count": 1,
      "outputs": []
    },
    {
      "cell_type": "code",
      "metadata": {
        "id": "W9Rd6RAXLq8L"
      },
      "source": [
        "# write the model \r\n",
        "def height(s,t,u,p):\r\n",
        "\r\n",
        "    # state variables \r\n",
        "    h = s[0]\r\n",
        "\r\n",
        "    # inputs\r\n",
        "    Fi = u[0]\r\n",
        "    F = u[1]\r\n",
        "\r\n",
        "    # parameters \r\n",
        "    # rho\r\n",
        "    A = p[0]\r\n",
        "\r\n",
        "    # mass balance \r\n",
        "    dhdt = 1/A*(Fi - F)\r\n",
        "\r\n",
        "    return dhdt"
      ],
      "execution_count": 5,
      "outputs": []
    },
    {
      "cell_type": "code",
      "metadata": {
        "id": "t2lLXCw-M1Rx"
      },
      "source": [
        "# estabilsh inputs\r\n",
        "Fis = 0.5\r\n",
        "Fs = 0.5\r\n",
        "u = [Fis, Fs]"
      ],
      "execution_count": 62,
      "outputs": []
    },
    {
      "cell_type": "code",
      "metadata": {
        "id": "3Q9gv6mtNLk6"
      },
      "source": [
        "# establish parameters\r\n",
        "A = 2\r\n",
        "p = [A]"
      ],
      "execution_count": 32,
      "outputs": []
    },
    {
      "cell_type": "code",
      "metadata": {
        "id": "VWuzoygoNaYK"
      },
      "source": [
        "# integration time \r\n",
        "time = np.linspace(0,100,100)"
      ],
      "execution_count": 33,
      "outputs": []
    },
    {
      "cell_type": "code",
      "metadata": {
        "id": "W2edeAPoOGMm"
      },
      "source": [
        "# intial conditions \r\n",
        "hs = 0.5\r\n",
        "s = [hs]"
      ],
      "execution_count": 39,
      "outputs": []
    },
    {
      "cell_type": "code",
      "metadata": {
        "id": "4DjBI4d-N5P9"
      },
      "source": [
        "# solve ODEs\r\n",
        "out = odeint(height, s, time, args=(u,p))"
      ],
      "execution_count": 35,
      "outputs": []
    },
    {
      "cell_type": "code",
      "metadata": {
        "colab": {
          "base_uri": "https://localhost:8080/",
          "height": 405
        },
        "id": "IC-vk10lOXy-",
        "outputId": "db2380ad-3423-4121-e046-4536117441f2"
      },
      "source": [
        "# show results \r\n",
        "plt.figure(figsize=(18,6))\r\n",
        "plt.subplot(1,3,1)\r\n",
        "plt.plot(time, out)\r\n",
        "plt.xlabel(\"time (min)\")\r\n",
        "plt.ylabel(\"height (m)\")\r\n",
        "plt.subplot(1,3,2)\r\n",
        "plt.plot(time, np.ones(len(time))*Fis, \"r--\")\r\n",
        "plt.xlabel(\"time (min)\")\r\n",
        "plt.ylabel(\"Fi (m3/min)\")\r\n",
        "plt.subplot(1,3,3)\r\n",
        "plt.plot(time, np.ones(len(time))*Fs,\"b--\")\r\n",
        "plt.xlabel(\"time (min)\")\r\n",
        "plt.ylabel(\"F (m3/min)\")"
      ],
      "execution_count": 36,
      "outputs": [
        {
          "output_type": "execute_result",
          "data": {
            "text/plain": [
              "Text(0, 0.5, 'F (m3/min)')"
            ]
          },
          "metadata": {
            "tags": []
          },
          "execution_count": 36
        },
        {
          "output_type": "display_data",
          "data": {
            "image/png": "[encoded data removed]",
            "text/plain": [
              "<Figure size 1296x432 with 3 Axes>"
            ]
          },
          "metadata": {
            "tags": [],
            "needs_background": "light"
          }
        }
      ]
    },
    {
      "cell_type": "markdown",
      "metadata": {
        "id": "rE-XW664Rn8H"
      },
      "source": [
        "### Análisis con $F_i$ variable "
      ]
    },
    {
      "cell_type": "code",
      "metadata": {
        "id": "MWfyx3GnOcVx"
      },
      "source": [
        "# variable input \r\n",
        "Fi = np.ones(len(time))*Fis\r\n",
        "Fi[25:50] = 2*Fis\r\n",
        "Fi[50:75] = 0.5*Fis"
      ],
      "execution_count": 72,
      "outputs": []
    },
    {
      "cell_type": "code",
      "metadata": {
        "id": "nA1OFMq8SMqQ"
      },
      "source": [
        "# vector para guardar las alturas\r\n",
        "h = np.ones(len(time))*hs\r\n",
        "# condiciones inicial \r\n",
        "s = [hs]"
      ],
      "execution_count": 68,
      "outputs": []
    },
    {
      "cell_type": "code",
      "metadata": {
        "colab": {
          "base_uri": "https://localhost:8080/"
        },
        "id": "ZkSAvrROSdOP",
        "outputId": "99e9d438-3700-4b5e-e07c-ac036071f15f"
      },
      "source": [
        "for i in range(len(time) - 1):\r\n",
        "    \r\n",
        "    # actualizar tiempo de integración\r\n",
        "    ts = [time[i], time[i+1]]\r\n",
        "\r\n",
        "    # actualizar el flujo\r\n",
        "    u[0] = Fi[i+1]\r\n",
        "\r\n",
        "    # resolver EDOs\r\n",
        "    out = odeint(height, s, ts, args= (u,p))\r\n",
        "\r\n",
        "    # guardar resultados \r\n",
        "    h[i+1] = out[-1][0]\r\n",
        "\r\n",
        "    # actualizar condiciones iniciales\r\n",
        "    s = out[-1][0]"
      ],
      "execution_count": 74,
      "outputs": [
        {
          "output_type": "execute_result",
          "data": {
            "text/plain": [
              "array([[3.65656566],\n",
              "       [3.65656566]])"
            ]
          },
          "metadata": {
            "tags": []
          },
          "execution_count": 74
        }
      ]
    },
    {
      "cell_type": "code",
      "metadata": {
        "colab": {
          "base_uri": "https://localhost:8080/",
          "height": 391
        },
        "id": "73SuQfDBSpYA",
        "outputId": "674ceb53-0d00-40dc-eb62-b868dffb163b"
      },
      "source": [
        "plt.figure(figsize=(15,6))\r\n",
        "plt.subplot(1,2,1)\r\n",
        "plt.plot(time, h)\r\n",
        "plt.subplot(1,2,2)\r\n",
        "plt.plot(time, Fi)"
      ],
      "execution_count": 70,
      "outputs": [
        {
          "output_type": "execute_result",
          "data": {
            "text/plain": [
              "[<matplotlib.lines.Line2D at 0x7f8938713210>]"
            ]
          },
          "metadata": {
            "tags": []
          },
          "execution_count": 70
        },
        {
          "output_type": "display_data",
          "data": {
            "image/png": "[encoded data removed]",
            "text/plain": [
              "<Figure size 1080x432 with 2 Axes>"
            ]
          },
          "metadata": {
            "tags": [],
            "needs_background": "light"
          }
        }
      ]
    },
    {
      "cell_type": "code",
      "metadata": {
        "id": "OinLrxNrTt2i"
      },
      "source": [
        ""
      ],
      "execution_count": null,
      "outputs": []
    }
  ]
}